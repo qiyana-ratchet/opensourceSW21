{
 "cells": [
  {
   "cell_type": "code",
   "execution_count": 1,
   "id": "745579f1-c023-4af5-b287-3c918cba6a77",
   "metadata": {},
   "outputs": [
    {
     "name": "stdout",
     "output_type": "stream",
     "text": [
      "2020-05-06\n",
      "2020-12-31\n",
      "2020-06-22\n"
     ]
    }
   ],
   "source": [
    "import csv\n",
    "f = open('seoul.csv')\n",
    "data = csv.reader(f)\n",
    "\n",
    "header = next(data)\n",
    "day_dif = -999\n",
    "max_temp = -999\n",
    "min_temp = 999\n",
    "max_date1 = ''\n",
    "max_date2 = ''\n",
    "max_date3 = ''\n",
    "for row in data :\n",
    "    if row[-1] == '' :\n",
    "        row[-1] = -999\n",
    "    row[-1] = float(row[-1])\n",
    "    row[3] = float(row[3])\n",
    "    if day_dif < row[-1]-row[3] :\n",
    "        max_date1 = row[0]\n",
    "        day_dif = row[-1]-row[3]\n",
    "\n",
    "print(max_date1)\n",
    "f.close()\n",
    "\n",
    "f = open('seoul.csv')\n",
    "data2 = csv.reader(f)\n",
    "header = next(data2)\n",
    "day_dif = -999\n",
    "max_temp = -999\n",
    "min_temp = 999\n",
    "max_date1 = ''\n",
    "max_date2 = ''\n",
    "max_date3 = ''\n",
    "for row in data2 :\n",
    "    if row[3] == '' :\n",
    "        row[3] = 999\n",
    "    row[3] = float(row[3])\n",
    "    if min_temp > row[3] :\n",
    "        max_date2 = row[0]\n",
    "\n",
    "print(max_date2)\n",
    "f.close()\n",
    "\n",
    "f = open('seoul.csv')\n",
    "data3 = csv.reader(f)        \n",
    "header = next(data3)\n",
    "\n",
    "for row in data3 :\n",
    "    if row[-1] == '' :\n",
    "        row[-1] = 999\n",
    "    row[-1] = float(row[-1])\n",
    "    if max_temp < row[-1] :\n",
    "        max_date3 = row[0]\n",
    "        max_temp = row[-1]\n",
    "        \n",
    "print(max_date3)   \n",
    "f.close()\n",
    "\n"
   ]
  },
  {
   "cell_type": "code",
   "execution_count": null,
   "id": "c3c98915-f9fe-49fa-b647-55907bf4d3ef",
   "metadata": {},
   "outputs": [],
   "source": []
  }
 ],
 "metadata": {
  "kernelspec": {
   "display_name": "Python 3",
   "language": "python",
   "name": "python3"
  },
  "language_info": {
   "codemirror_mode": {
    "name": "ipython",
    "version": 3
   },
   "file_extension": ".py",
   "mimetype": "text/x-python",
   "name": "python",
   "nbconvert_exporter": "python",
   "pygments_lexer": "ipython3",
   "version": "3.8.8"
  }
 },
 "nbformat": 4,
 "nbformat_minor": 5
}
