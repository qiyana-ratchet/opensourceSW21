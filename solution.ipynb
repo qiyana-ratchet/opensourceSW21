{
 "cells": [
  {
   "cell_type": "code",
   "execution_count": 155,
   "id": "d6e77aca-68e7-42db-a3da-fe57a1aa0a10",
   "metadata": {},
   "outputs": [
    {
     "ename": "TypeError",
     "evalue": "Point() takes no arguments",
     "output_type": "error",
     "traceback": [
      "\u001b[1;31m----------------------------------------------------------------------\u001b[0m",
      "\u001b[1;31mTypeError\u001b[0m                            Traceback (most recent call last)",
      "\u001b[1;32m<ipython-input-155-41132a967924>\u001b[0m in \u001b[0;36m<module>\u001b[1;34m\u001b[0m\n\u001b[0;32m     11\u001b[0m         \u001b[0mprint\u001b[0m\u001b[1;33m(\u001b[0m\u001b[1;34m\"k\"\u001b[0m\u001b[1;33m)\u001b[0m\u001b[1;33m\u001b[0m\u001b[1;33m\u001b[0m\u001b[0m\n\u001b[0;32m     12\u001b[0m \u001b[1;33m\u001b[0m\u001b[0m\n\u001b[1;32m---> 13\u001b[1;33m \u001b[0ma\u001b[0m\u001b[1;33m=\u001b[0m\u001b[0mPoint\u001b[0m\u001b[1;33m(\u001b[0m\u001b[1;36m1\u001b[0m\u001b[1;33m,\u001b[0m\u001b[1;36m2\u001b[0m\u001b[1;33m)\u001b[0m\u001b[1;33m\u001b[0m\u001b[1;33m\u001b[0m\u001b[0m\n\u001b[0m\u001b[0;32m     14\u001b[0m \u001b[0ma\u001b[0m\u001b[1;33m.\u001b[0m\u001b[0mshow\u001b[0m\u001b[1;33m(\u001b[0m\u001b[1;33m)\u001b[0m\u001b[1;33m\u001b[0m\u001b[1;33m\u001b[0m\u001b[0m\n\u001b[0;32m     15\u001b[0m \u001b[1;33m\u001b[0m\u001b[0m\n",
      "\u001b[1;31mTypeError\u001b[0m: Point() takes no arguments"
     ]
    }
   ],
   "source": [
    "class Point:\n",
    "    a=0\n",
    "    b=0\n",
    "    def Point(a,b):\n",
    "\n",
    "        c = [0,0]\n",
    "        c[0]=a\n",
    "        c[1]=b\n",
    "        return c\n",
    "    def show():\n",
    "        print(\"k\")\n",
    "    \n",
    "a=Point(1,2)\n",
    "a.show()\n",
    "\n",
    "b=Point(3,4)\n",
    "b.show()\n",
    "\n",
    "a=a+b\n",
    "a.show()\n"
   ]
  },
  {
   "cell_type": "code",
   "execution_count": 60,
   "id": "cc38ba50-14ab-411a-834c-fffe1a4e4095",
   "metadata": {},
   "outputs": [
    {
     "name": "stdout",
     "output_type": "stream",
     "text": [
      "Max Week = 5/8 ~ 5/15\n"
     ]
    }
   ],
   "source": [
    "import csv\n",
    "\n",
    "f=open('seoulFinal.csv')\n",
    "data = csv.reader(f)\n",
    "next(data)\n",
    "\n",
    "dif=0\n",
    "day_dif=[]\n",
    "week_dif=[]\n",
    "date=0\n",
    "\n",
    "for row in data:\n",
    "    #print(row[3])\n",
    "    dif = float(row[4])-float(row[3])\n",
    "    day_dif.append(dif)\n",
    "    \n",
    "for r in range(0,5):\n",
    "    week_dif.append(sum(day_dif[r*7:(r+1)*7]))\n",
    "\n",
    "date=week_dif.index(max(week_dif))\n",
    "print(\"Max Week = 5/%d ~ 5/%d\"%((date*7)+1,((date+1)*7)+1))"
   ]
  },
  {
   "cell_type": "code",
   "execution_count": 182,
   "id": "3bdc2dcf-90b6-4914-842d-54cd26c9212b",
   "metadata": {},
   "outputs": [
    {
     "data": {
      "image/png": "[encoded data removed]",
      "text/plain": [
       "<Figure size 432x288 with 1 Axes>"
      ]
     },
     "metadata": {
      "needs_background": "light"
     },
     "output_type": "display_data"
    }
   ],
   "source": [
    "import matplotlib.pyplot as plt\n",
    "import numpy as np\n",
    "\n",
    "docs=np.array([[1,1,0,1,0,1],[1,1,1,0,1,0],[1,1,0,1,0,0]])\n",
    "query=np.array([1,1,0,0,1,0])\n",
    "cos=[]\n",
    "\n",
    "for r in range(3):\n",
    "    cos.append(sum(docs[r]*query)/(sum(docs[r])*sum(query)))\n",
    "    \n",
    "plt.bar(range(3),cos,label='abc')\n",
    "plt.show()"
   ]
  }
 ],
 "metadata": {
  "kernelspec": {
   "display_name": "Python 3",
   "language": "python",
   "name": "python3"
  },
  "language_info": {
   "codemirror_mode": {
    "name": "ipython",
    "version": 3
   },
   "file_extension": ".py",
   "mimetype": "text/x-python",
   "name": "python",
   "nbconvert_exporter": "python",
   "pygments_lexer": "ipython3",
   "version": "3.8.8"
  }
 },
 "nbformat": 4,
 "nbformat_minor": 5
}
