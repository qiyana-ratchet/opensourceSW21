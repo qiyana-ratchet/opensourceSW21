{
 "cells": [
  {
   "cell_type": "code",
   "execution_count": 190,
   "id": "368661a4-313a-4906-92dc-c3d869a9533f",
   "metadata": {},
   "outputs": [
    {
     "name": "stdout",
     "output_type": "stream",
     "text": [
      "서울특별시 송파구  198.90 %\n",
      "서울특별시 중구  42.75 %\n"
     ]
    }
   ],
   "source": [
    "import matplotlib.pyplot as plt\n",
    "import numpy as np\n",
    "import pandas as pd\n",
    "import csv\n",
    "\n",
    "f = open('population.csv')\n",
    "data = csv.reader(f)\n",
    "next(data)\n",
    "next(data)\n",
    "\n",
    "temp = []\n",
    "for row in data:\n",
    "    temp.append(row)\n",
    "\n",
    "data = []\n",
    "\n",
    "pop_diff = 0\n",
    "for r in range(25):\n",
    "    for c in range(len(temp[4][4:])):\n",
    "        pop_diff+=abs(int(temp[r][c+4].replace(\",\", \"\"))/int(temp[4][c+4].replace(\",\", \"\")))\n",
    "    data.append(pop_diff)\n",
    "    pop_diff=0\n",
    "\n",
    "index = data.index(max(data))\n",
    "print(temp[index][1], '%.2f'%data[index],'%')\n",
    "\n",
    "index = data.index(min(data))\n",
    "print(temp[index][1], '%.2f'%data[index],'%')"
   ]
  },
  {
   "cell_type": "code",
   "execution_count": null,
   "id": "c0054618-debc-41dd-b01f-7d7b00f47a5e",
   "metadata": {},
   "outputs": [],
   "source": []
  }
 ],
 "metadata": {
  "kernelspec": {
   "display_name": "Python 3",
   "language": "python",
   "name": "python3"
  },
  "language_info": {
   "codemirror_mode": {
    "name": "ipython",
    "version": 3
   },
   "file_extension": ".py",
   "mimetype": "text/x-python",
   "name": "python",
   "nbconvert_exporter": "python",
   "pygments_lexer": "ipython3",
   "version": "3.8.8"
  }
 },
 "nbformat": 4,
 "nbformat_minor": 5
}
