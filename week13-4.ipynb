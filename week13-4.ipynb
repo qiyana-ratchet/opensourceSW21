{
 "cells": [
  {
   "cell_type": "code",
   "execution_count": 6,
   "id": "656e5823-fa7e-478c-9b60-6b5e7082316c",
   "metadata": {},
   "outputs": [
    {
     "data": {
      "image/png": "[encoded data removed]",
      "text/plain": [
       "<Figure size 432x288 with 1 Axes>"
      ]
     },
     "metadata": {
      "needs_background": "light"
     },
     "output_type": "display_data"
    }
   ],
   "source": [
    "import csv\n",
    "import matplotlib.pyplot as plt\n",
    "\n",
    "f = open('seoul1.csv')\n",
    "data = csv.reader(f)\n",
    "next(data)\n",
    "high_result_jan=[]\n",
    "high_result_aug=[]\n",
    "low_result=[]\n",
    "\n",
    "        \n",
    "for row in data :\n",
    "    high_temp=row[4]\n",
    "    low_temp=row[5]\n",
    "    date=row[2]\n",
    "    if date=='' :\n",
    "        break\n",
    "    year,month,day = date.split('-')[:3]\n",
    "    \n",
    "    if row[-1] != '' :\n",
    "        if month == '01' :\n",
    "            high_result_jan.append(float(high_temp))\n",
    "        if month == '08' :\n",
    "            high_result_aug.append(float(high_temp))\n",
    "            \n",
    "plt.hist(high_result_jan, bins=100)\n",
    "plt.hist(high_result_aug, bins=100)\n",
    "plt.show()"
   ]
  },
  {
   "cell_type": "code",
   "execution_count": null,
   "id": "ecc2a21a-c559-4a96-9e9d-50bf7cf85e99",
   "metadata": {},
   "outputs": [],
   "source": []
  },
  {
   "cell_type": "code",
   "execution_count": 4,
   "id": "db525e34-68c1-48e3-8ca1-c6ac124dc397",
   "metadata": {},
   "outputs": [
    {
     "data": {
      "text/plain": [
       "[]"
      ]
     },
     "execution_count": 4,
     "metadata": {},
     "output_type": "execute_result"
    }
   ],
   "source": [
    "high_result_jan"
   ]
  },
  {
   "cell_type": "code",
   "execution_count": null,
   "id": "8f551187-d6da-4f3c-a8e0-4e51fd2a923e",
   "metadata": {},
   "outputs": [],
   "source": []
  }
 ],
 "metadata": {
  "kernelspec": {
   "display_name": "Python 3",
   "language": "python",
   "name": "python3"
  },
  "language_info": {
   "codemirror_mode": {
    "name": "ipython",
    "version": 3
   },
   "file_extension": ".py",
   "mimetype": "text/x-python",
   "name": "python",
   "nbconvert_exporter": "python",
   "pygments_lexer": "ipython3",
   "version": "3.8.8"
  }
 },
 "nbformat": 4,
 "nbformat_minor": 5
}
